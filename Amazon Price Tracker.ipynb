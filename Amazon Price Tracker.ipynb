{
 "cells": [
  {
   "cell_type": "code",
   "execution_count": null,
   "id": "dc666873",
   "metadata": {},
   "outputs": [],
   "source": [
    "import bs4\n",
    "import urllib.request\n",
    "import smtplib\n",
    "import time\n",
    "prices_list = []\n",
    "def check_price():\n",
    "    url = 'https://www.amazon.in/Daniel-Klein-Analog-Silver-Watch-DK11847-5/dp/B07KZ4Q8JX/ref=sr_1_17?dchild=1&keywords=daniel+klein+plain+watches+for+men&qid=1626003470&sr=8-17'\n",
    "    sauce = urllib.request.urlopen(url).read()\n",
    "    soup= bs4.BeautifulSoup(sauce,\"html.parser\")\n",
    "    prices = soup.find(id=\"priceblock_ourprice\").get_text()\n",
    "    prices=float(prices.replace(\",\",\"\").replace(\"₹\", \"\"))\n",
    "    prices_list.append(prices)\n",
    "    \n",
    "    \n",
    "def send_email(message):\n",
    "    s=smtplib.SMTP('smtp.gmail.com', 587)\n",
    "    s.starttls()\n",
    "    s.login(\"gvenugopal587@gmail.com\",'Gopala143@krishna')\n",
    "    s.sendmail(\"gvenugopal587@gmail.com\",\"gvenu2024@gmail.com\",message)\n",
    "    s.quit()\n",
    "\n",
    "def price_decrease_check(price_list):\n",
    "        if prices_list[-1]<prices_list[-2]:\n",
    "            return True\n",
    "        else:\n",
    "            return False\n",
    "count = 1\n",
    "while True:\n",
    "    current_price = check_price()\n",
    "    if count>1:\n",
    "        flag=price_decrease_check(prices_list)\n",
    "        if flag:\n",
    "            decrease = prices_list[-1]-prices_list[-2]\n",
    "            message=f\"the price has decrease please check the item.the price decreased by {decrease} rupees.\"\n",
    "            send_email(message)\n",
    "    time.sleep(43000)\n",
    "    count+=1"
   ]
  },
  {
   "cell_type": "code",
   "execution_count": null,
   "id": "be362c03",
   "metadata": {},
   "outputs": [],
   "source": []
  }
 ],
 "metadata": {
  "kernelspec": {
   "display_name": "Python 3",
   "language": "python",
   "name": "python3"
  },
  "language_info": {
   "codemirror_mode": {
    "name": "ipython",
    "version": 3
   },
   "file_extension": ".py",
   "mimetype": "text/x-python",
   "name": "python",
   "nbconvert_exporter": "python",
   "pygments_lexer": "ipython3",
   "version": "3.8.10"
  }
 },
 "nbformat": 4,
 "nbformat_minor": 5
}
